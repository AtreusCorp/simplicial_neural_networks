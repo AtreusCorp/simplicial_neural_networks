{
 "cells": [
  {
   "cell_type": "code",
   "execution_count": 20,
   "metadata": {},
   "outputs": [],
   "source": [
    "\"\"\"\n",
    "Input: collaboration bipartite graph X-Y and weights on X.\n",
    "Output: collaboration simplicial complex and value of each collaboration.\n",
    "(Each collaboration is represented as a simplex.)\n",
    "\"\"\"\n",
    "\n",
    "import os\n",
    "import contextlib\n",
    "import time\n",
    "\n",
    "import numpy as np\n",
    "import pandas as pd\n",
    "import gudhi\n",
    "from scipy import sparse\n",
    "from scipy.sparse import coo_matrix\n",
    "from random import shuffle\n",
    "\n",
    "\n",
    "def load(columns):\n",
    "    biadjacency = sparse.load_npz('s2_processed/paper_author_biadjacency.npz')\n",
    "    # papers = np.load('s2_processed/papers_features.npy')\n",
    "    papers = pd.read_csv('s2_processed/papers.csv', index_col=0)\n",
    "    print('loading:')\n",
    "    print('  bipartite: {:,} papers, {:,} authors, {:,} edges'.format(\n",
    "        *biadjacency.shape, biadjacency.nnz))\n",
    "    print('  paper features: {:,} papers, {:,} features'.format(*papers.shape))\n",
    "    print('                  keeping {} features'.format(len(columns)))\n",
    "    return biadjacency, papers[columns]\n",
    "\n",
    "\n",
    "def bipart2simplex(bipartite,weights_x,indices_x, dimension=3):\n",
    "    \"\"\"Build a Gudhi Simplex Tree from the bipartite graph X-Y by projection on Y and extract the\n",
    "    features corresponding to maximal dimensional simplices.\n",
    "    Parameters\n",
    "    ----------\n",
    "    bipartite : scipy sparse matrix\n",
    "        bipartite collaboration graph X-Y\n",
    "    weights_x : ndarray\n",
    "        Array of size bipartite.shape[0], containing the weights on the node of X\n",
    "    indices_x = array\n",
    "        Array of the indices of the X nodes to restrict to\n",
    "    dimension: int\n",
    "        maximal dimension of the simplicial complex = maximal number of individuals collaborating.\n",
    "    Returns\n",
    "    -------\n",
    "    simplex_tree:\n",
    "        Gudhi simplex tree.\n",
    "    signals_top:\n",
    "        Features for every maximal dimensional simplex.\n",
    "    \"\"\"\n",
    "    signals_top = [dict() for _ in range(dimension+1)]\n",
    "    simplex_tree =gudhi.SimplexTree()\n",
    "    Al=bipartite.tolil()\n",
    "    Al.rows[indices_x]\n",
    "    for j,authors in enumerate(Al.rows[indices_x]):\n",
    "        if len(authors)<=dimension+1:\n",
    "            k = len(authors)\n",
    "            simplex_tree.insert(authors)\n",
    "            signals_top[k-1].setdefault(frozenset(authors),[]).append(weights_x[indices_x][j])\n",
    "        else:\n",
    "            continue\n",
    "\n",
    "    return simplex_tree,signals_top\n",
    "\n",
    "\n",
    "def extract_simplices(simplex_tree):\n",
    "    \"\"\"Create a list of simplices from a gudhi simplex tree.\"\"\"\n",
    "    simplices = [dict() for _ in range(simplex_tree.dimension()+1)]\n",
    "    for simplex, _ in simplex_tree.get_skeleton(simplex_tree.dimension()):\n",
    "        k = len(simplex)\n",
    "        simplices[k-1][frozenset(simplex)] = len(simplices[k-1])\n",
    "    return simplices\n",
    "\n",
    "\n",
    "def build_cochains(simplex_tree,signals_top,function=np.sum):\n",
    "    \"\"\"Build the k-cochains using the weights on X (form the X-Y bipartite graph)\n",
    "     and a chosen aggregating function. Features are aggregated by the provided functions.\n",
    "     The function takes as input a list of values  and must return a single number.\n",
    "\n",
    "    Parameters\n",
    "    ----------\n",
    "    simplex_tree :\n",
    "        Gudhi simplex tree\n",
    "    signals_top : ndarray\n",
    "        Features for every maximal dimensional simplex = weights on the nodes of X (from bipartite graph X-Y)\n",
    "    function : callable\n",
    "        Functions that will aggregate the features to build the k-coachains, default=np.sum\n",
    "\n",
    "    Returns\n",
    "    -------\n",
    "    signals :\n",
    "        k-cochains = List of dictionaries of simplices of order k and their collaboration\n",
    "        value.\n",
    "    signals_top:\n",
    "        Features for every maximal dimensional simplex\n",
    "    \"\"\"\n",
    "    signal = [dict() for _ in range(simplex_tree.dimension()+1)]\n",
    "    for d in range(len(signals_top)-1, -1,-1):\n",
    "        for simplex, values in signals_top[d].items():\n",
    "            st=gudhi.SimplexTree()\n",
    "            st.insert(simplex)\n",
    "            for face, _ in st.get_skeleton(st.dimension()):\n",
    "                face=frozenset(face)\n",
    "                signal[len(face)-1].setdefault(face,[]).extend(signals_top[d][simplex])\n",
    "\n",
    "    for d in range(len(signals_top)-1, -1,-1):\n",
    "        for simplex, values in signals_top[d].items():\n",
    "            st=gudhi.SimplexTree()\n",
    "            st.insert(simplex)\n",
    "            for face, _ in st.get_skeleton(st.dimension()):\n",
    "                face=frozenset(face)\n",
    "                value=np.array(signal[len(face)-1][face])\n",
    "                signal[len(face)-1][face]=int(function(value))##Choose propagation function\n",
    "               # signal[len(face)-1][face]=np.mean(value[value>0])\n",
    "    return signal,signals_top\n",
    "\n",
    "\n",
    "def bipart2simpcochain(bipartite,weights_x,indices_x,function=np.sum,dimension=3):\n",
    "    \"\"\"From a collaboration bipartite graph X-Y and its weights on X to a\n",
    "    collaboration simplicial complex and its collaboration values on the\n",
    "    simplices.\n",
    "\n",
    "    Parameters\n",
    "    ----------\n",
    "    bipartite : scipy sparse matrix\n",
    "        Sparse matrix representing the collaboration bipartite graph X-Y.\n",
    "    weights_x : ndarray\n",
    "        Array of size bipartite.shape[0], containing the weights on the node of X\n",
    "    function : callable\n",
    "        Functions that will aggregate the features to build the k-coachains, default=np.sum\n",
    "    indices_x : array\n",
    "        Array of the indices of the X nodes to restrict to\n",
    "    dimension : int\n",
    "        Maximal dimension of the simplicial complex.\n",
    "\n",
    "    Returns\n",
    "    -------\n",
    "    simplices:\n",
    "        List of dictionaries of simplices of order k and their indices.\n",
    "    cochains:\n",
    "        List of dictionaries of simplices of order k and their collaboration\n",
    "        value.\n",
    "    signals_top:\n",
    "        Features for every maximal dimensional simplex\n",
    "    \"\"\"\n",
    "    st,v=bipart2simplex(bipartite,weights_x,indices_x,dimension)\n",
    "    simplices=extract_simplices(st)\n",
    "    cochains,signals_top=build_cochains(st,v,function)\n",
    "    return simplices, cochains,signals_top\n",
    "\n",
    "def save(simplices, cochains):\n",
    "    print('saving:')\n",
    "    sizes = [len(s) for s in simplices]\n",
    "    for k, size in enumerate(sizes):\n",
    "        print(f'  {size:,} {k}-simplices')\n",
    "    print('  {:,} simplices in total'.format(sum(sizes)))\n",
    "    np.save('s2_processed/authors_collaboration_cochains.npy', cochains)\n",
    "    np.save('s2_processed/authors_collaboration_simplices.npy', simplices)\n",
    "\n"
   ]
  },
  {
   "cell_type": "code",
   "execution_count": 21,
   "metadata": {},
   "outputs": [
    {
     "data": {
      "text/plain": [
       "array([0, 1, 2, 3])"
      ]
     },
     "execution_count": 21,
     "metadata": {},
     "output_type": "execute_result"
    }
   ],
   "source": [
    "\n",
    "r\"\"\"Test the transformation of a bipartite graph to a collaboration complex.\"\"\"\n",
    "biadjacency = coo_matrix([\n",
    "    [1, 1, 1, 0],\n",
    "    [1, 1, 0, 0],\n",
    "    [1, 0, 0, 1],\n",
    "    [0, 0, 1, 1],\n",
    "])\n",
    "number_citations =np.array([100,50,10,4])\n",
    "indices=np.arange(biadjacency.shape[0])\n",
    "\n",
    " \n",
    "    \n",
    "indices\n",
    "    \n",
    "    \n",
    "    \n",
    "    \n",
    "    \n"
   ]
  },
  {
   "cell_type": "code",
   "execution_count": 30,
   "metadata": {},
   "outputs": [
    {
     "name": "stdout",
     "output_type": "stream",
     "text": [
      "a\n"
     ]
    }
   ],
   "source": [
    "if np.all(None)==None:\n",
    "    print('a')"
   ]
  },
  {
   "cell_type": "code",
   "execution_count": 22,
   "metadata": {},
   "outputs": [],
   "source": [
    "simplices, cochains,signals_top = bipart2simpcochain(biadjacency, number_citations,indices_x=indices,function=np.sum )\n",
    "\n",
    "    \n",
    "    \n",
    "    \n",
    "    \n",
    "    \n",
    "    \n",
    "    \n",
    "    "
   ]
  },
  {
   "cell_type": "code",
   "execution_count": 23,
   "metadata": {},
   "outputs": [
    {
     "data": {
      "text/plain": [
       "[{},\n",
       " {frozenset({0, 1}): [50], frozenset({0, 3}): [10], frozenset({2, 3}): [4]},\n",
       " {frozenset({0, 1, 2}): [100]},\n",
       " {}]"
      ]
     },
     "execution_count": 23,
     "metadata": {},
     "output_type": "execute_result"
    }
   ],
   "source": [
    "signals_top"
   ]
  },
  {
   "cell_type": "code",
   "execution_count": 24,
   "metadata": {},
   "outputs": [
    {
     "data": {
      "text/plain": [
       "[{frozenset({0}): 0, frozenset({1}): 1, frozenset({2}): 2, frozenset({3}): 3},\n",
       " {frozenset({0, 1}): 0,\n",
       "  frozenset({0, 2}): 1,\n",
       "  frozenset({0, 3}): 2,\n",
       "  frozenset({1, 2}): 3,\n",
       "  frozenset({2, 3}): 4},\n",
       " {frozenset({0, 1, 2}): 0}]"
      ]
     },
     "execution_count": 24,
     "metadata": {},
     "output_type": "execute_result"
    }
   ],
   "source": [
    "simplices"
   ]
  },
  {
   "cell_type": "code",
   "execution_count": 10,
   "metadata": {},
   "outputs": [
    {
     "ename": "AssertionError",
     "evalue": "",
     "output_type": "error",
     "traceback": [
      "\u001b[0;31m---------------------------------------------------------------------------\u001b[0m",
      "\u001b[0;31mAssertionError\u001b[0m                            Traceback (most recent call last)",
      "\u001b[0;32m<ipython-input-10-4b4a9d5550d1>\u001b[0m in \u001b[0;36m<module>\u001b[0;34m\u001b[0m\n\u001b[1;32m     29\u001b[0m     },\n\u001b[1;32m     30\u001b[0m ]\n\u001b[0;32m---> 31\u001b[0;31m \u001b[0;32massert\u001b[0m \u001b[0mcochains\u001b[0m \u001b[0;34m==\u001b[0m \u001b[0mcochains_true\u001b[0m\u001b[0;34m\u001b[0m\u001b[0;34m\u001b[0m\u001b[0m\n\u001b[0m\u001b[1;32m     32\u001b[0m \u001b[0;32massert\u001b[0m \u001b[0msimplices\u001b[0m \u001b[0;34m==\u001b[0m \u001b[0msimplices_true\u001b[0m\u001b[0;34m\u001b[0m\u001b[0;34m\u001b[0m\u001b[0m\n\u001b[1;32m     33\u001b[0m \u001b[0;34m\u001b[0m\u001b[0m\n",
      "\u001b[0;31mAssertionError\u001b[0m: "
     ]
    }
   ],
   "source": [
    "cochains_true = [\n",
    "    {\n",
    "        frozenset([0]): [4, 4],\n",
    "        frozenset([2]): [4 + 3 - 7 + 2, 16],\n",
    "        frozenset([3]): [4 + 3, 7],\n",
    "    },\n",
    "    {\n",
    "        frozenset([0, 2]): [4, 4],\n",
    "        frozenset([0, 3]): [4, 4],\n",
    "        frozenset([2, 3]): [4 + 3, 7],\n",
    "    },\n",
    "    {\n",
    "        frozenset([0, 2, 3]): [4, 4],\n",
    "    },\n",
    "]\n",
    "simplices_true = [\n",
    "    {\n",
    "        frozenset([0]): 0,\n",
    "        frozenset([2]): 1,\n",
    "        frozenset([3]): 2,\n",
    "    },\n",
    "    {\n",
    "        frozenset([0, 2]): 0,\n",
    "        frozenset([0, 3]): 1,\n",
    "        frozenset([2, 3]): 2,\n",
    "    },\n",
    "    {\n",
    "        frozenset([0, 2, 3]): 0,\n",
    "    },\n",
    "]\n",
    "assert cochains == cochains_true\n",
    "assert simplices == simplices_true\n",
    "\n",
    "\n"
   ]
  },
  {
   "cell_type": "code",
   "execution_count": null,
   "metadata": {},
   "outputs": [],
   "source": []
  },
  {
   "cell_type": "code",
   "execution_count": null,
   "metadata": {},
   "outputs": [],
   "source": [
    "if __name__ == '__main__':\n",
    "    test()\n",
    "\n",
    "    # List of features to keep, with the corresponding aggregation function.\n",
    "    # Python functions are faster than numpy as we aggregate over small lists.\n",
    "    # concatenations = {\n",
    "    #     'citations_1994': sum,\n",
    "    #     'citations_1999': sum,\n",
    "    #     'citations_2004': sum,\n",
    "    #     'citations_2009': sum,\n",
    "    #     'citations_2014': sum,\n",
    "    #     'citations_2019': sum,\n",
    "    #     'references': sum,\n",
    "    #     'year': lambda x: sum(x) / len(x),\n",
    "    # }\n",
    "    #\n",
    "    # start = time.time()\n",
    "    # def timeit(name):\n",
    "    #     print('wall time ({}): {:.0f}s'.format(name, time.time() - start))\n",
    "    #\n",
    "    # biadjacency, papers = load(concatenations.keys())\n",
    "    # timeit('load')\n",
    "    # simplices, cochains = bipart2simpcochain(biadjacency, papers, concatenations.values(), dimension=10)\n",
    "    # timeit('process')\n",
    "    # save(simplices, cochains)\n",
    "    # timeit('total')\n"
   ]
  }
 ],
 "metadata": {
  "kernelspec": {
   "display_name": "Python 3",
   "language": "python",
   "name": "python3"
  },
  "language_info": {
   "codemirror_mode": {
    "name": "ipython",
    "version": 3
   },
   "file_extension": ".py",
   "mimetype": "text/x-python",
   "name": "python",
   "nbconvert_exporter": "python",
   "pygments_lexer": "ipython3",
   "version": "3.7.4"
  }
 },
 "nbformat": 4,
 "nbformat_minor": 2
}
