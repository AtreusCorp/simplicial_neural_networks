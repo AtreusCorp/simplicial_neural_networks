{
 "cells": [
  {
   "cell_type": "markdown",
   "metadata": {},
   "source": [
    "# Laplacians of simplicial complexes"
   ]
  },
  {
   "cell_type": "code",
   "execution_count": null,
   "metadata": {},
   "outputs": [],
   "source": [
    "%matplotlib inline"
   ]
  },
  {
   "cell_type": "code",
   "execution_count": null,
   "metadata": {},
   "outputs": [],
   "source": [
    "import numpy as np\n",
    "from scipy import sparse\n",
    "import scipy.sparse.linalg\n",
    "import matplotlib as mpl\n",
    "from matplotlib import pyplot as plt\n",
    "import gudhi\n",
    "#import pygsp as pg\n",
    "\n",
    "from data.s2_4_complex_to_matrices import build_boundaries, build_laplacians"
   ]
  },
  {
   "cell_type": "markdown",
   "metadata": {},
   "source": [
    "## 1 Build an alpha complex from a point cloud\n",
    "\n",
    "The simplicial complex is built from a [Delaunay triangulation](https://en.wikipedia.org/wiki/Delaunay_triangulation).\n",
    "See the [CGAL documentation](https://doc.cgal.org/latest/Triangulation/index.html).\n",
    "\n",
    "Alternatives:\n",
    "* [`scipy.spatial.Delaunay`](https://docs.scipy.org/doc/scipy/reference/generated/scipy.spatial.Delaunay.html).\n",
    "  Only for convex shapes?\n",
    "* Directly use CGAL. There are Python bindings, but [they don't seem to include the Delaunay triangulation](https://github.com/CGAL/cgal-swig-bindings/wiki/Package_wrappers_available)."
   ]
  },
  {
   "cell_type": "code",
   "execution_count": null,
   "metadata": {},
   "outputs": [],
   "source": [
    "n_points = 100  # Approximate.\n",
    "dim = 2\n",
    "\n",
    "rs = np.random.RandomState(None)\n",
    "points = np.concatenate([\n",
    "    [0.2, 1] * rs.uniform(size=(n_points//4, dim)),\n",
    "    [0.2, 0.8] + [0.6, 0.2] * rs.uniform(size=(n_points//6, dim)),\n",
    "    [0.2, 0] + [0.6, 0.2] * rs.uniform(size=(n_points//6, dim)),\n",
    "    [0.8, 0] + [0.2, 1] * rs.uniform(size=(n_points//4, dim)),\n",
    "    [0.4, 0.4] + [0.2, 0.2] * rs.uniform(size=(n_points//6, dim))\n",
    "])\n",
    "\n",
    "points = np.random.uniform(size=(n_points, dim))\n",
    "#points = pg.graphs.Grid2d(10).coords\n",
    "\n",
    "n_points = points.shape[0]\n",
    "print(f'{n_points} points')\n",
    "\n",
    "plt.scatter(*points.T);"
   ]
  },
  {
   "cell_type": "markdown",
   "metadata": {},
   "source": [
    "from scipy import spatial\n",
    "\n",
    "tri = spatial.Delaunay(points)\n",
    "print(f'{tri.simplices.shape[0]} triangles')\n",
    "\n",
    "plt.triplot(points[:,0], points[:,1], tri.simplices);"
   ]
  },
  {
   "cell_type": "code",
   "execution_count": null,
   "metadata": {},
   "outputs": [],
   "source": [
    "ac = gudhi.AlphaComplex(points)\n",
    "st = ac.create_simplex_tree()\n",
    "\n",
    "before = st.num_simplices()\n",
    "_ = st.prune_above_filtration(1e-2)\n",
    "print(f'filtration: {before} => {st.num_simplices()} simplices')\n",
    "\n",
    "assert st.num_vertices() == n_points\n",
    "assert st.dimension() == dim"
   ]
  },
  {
   "cell_type": "markdown",
   "metadata": {},
   "source": [
    "## 2 Extract simplices\n",
    "\n",
    "* $n_0$ is the number of 0-simplices (nodes)\n",
    "* $n_1$ is the number of 1-simplices (edges)\n",
    "* $n_2$ is the number of 2-simplices (triangles)\n",
    "* $n_k$ is the number of $k$-simplices\n",
    "\n",
    "`simplices` is a list of dictionaries, with one dictionary per degree $k$.\n",
    "Each dictionary maps a simplex (represented as a set of vertices) to an integer that will be its index in the boundary and Laplacian operators."
   ]
  },
  {
   "cell_type": "code",
   "execution_count": null,
   "metadata": {},
   "outputs": [],
   "source": [
    "def extract_simplices(simplex_tree):\n",
    "    simplices = [dict() for _ in range(simplex_tree.dimension()+1)]\n",
    "    for simplex, _ in simplex_tree.get_skeleton(simplex_tree.dimension()):\n",
    "        k = len(simplex)\n",
    "        simplices[k-1][frozenset(simplex)] = len(simplices[k-1])\n",
    "    return simplices\n",
    "\n",
    "simplices = extract_simplices(st)"
   ]
  },
  {
   "cell_type": "code",
   "execution_count": null,
   "metadata": {},
   "outputs": [],
   "source": [
    "for k, s in enumerate(simplices):\n",
    "    print(f'n_{k} = {len(s):,} {k}-simplices')"
   ]
  },
  {
   "cell_type": "markdown",
   "metadata": {},
   "source": [
    "## 2.1 Plotting"
   ]
  },
  {
   "cell_type": "code",
   "execution_count": null,
   "metadata": {},
   "outputs": [],
   "source": [
    "def get_positions(simplices, dim):\n",
    "    polygons = list()\n",
    "    for i, simplex in enumerate(simplices[dim].keys()):\n",
    "        assert simplices[dim][simplex] == i  # Dictionary is ordered.\n",
    "        polygon = list()\n",
    "        for vertex in simplex:\n",
    "            polygon.append(points[vertex])\n",
    "        polygons.append(polygon)\n",
    "    return polygons\n",
    "\n",
    "lines = get_positions(simplices, 1)\n",
    "triangles = get_positions(simplices, 2)"
   ]
  },
  {
   "cell_type": "code",
   "execution_count": null,
   "metadata": {},
   "outputs": [],
   "source": [
    "def value2color(values):\n",
    "    values -= values.min()\n",
    "    values /= values.max()\n",
    "    return mpl.cm.viridis(values)\n",
    "\n",
    "def plot_nodes(colors, ax=None, **kwargs):\n",
    "    if ax is None:\n",
    "        fig, ax = plt.subplots()\n",
    "    ax.scatter(points[:, 0], points[:, 1], c=colors, **kwargs)\n",
    "    return ax.figure, ax\n",
    "\n",
    "def plot_edges(colors, ax=None, **kwargs):\n",
    "    if ax is None:\n",
    "        fig, ax = plt.subfigs()\n",
    "    colors = value2color(colors)\n",
    "    collection = mpl.collections.LineCollection(lines, colors=colors, **kwargs)\n",
    "    ax.add_collection(collection)\n",
    "    ax.autoscale()\n",
    "\n",
    "def plot_triangles(colors, ax=None, **kwargs):\n",
    "    if ax is None:\n",
    "        fig, ax = plt.subfigs()\n",
    "    colors = value2color(colors)\n",
    "    for triangle, color in zip(triangles, colors):\n",
    "        triangle = plt.Polygon(triangle, color=color, **kwargs)\n",
    "        ax.add_patch(triangle)\n",
    "    ax.autoscale()\n",
    "    \n",
    "def plot_triangles_plain( ax=None, **kwargs):\n",
    "    if ax is None:\n",
    "        fig, ax = plt.subfigs()\n",
    "    colors = len(simplices[1])*['linen']\n",
    "    for triangle, color in zip(triangles, colors):\n",
    "        triangle = plt.Polygon(triangle, color=color, **kwargs)\n",
    "        ax.add_patch(triangle)\n",
    "    ax.autoscale()"
   ]
  },
  {
   "cell_type": "markdown",
   "metadata": {},
   "source": [
    "## 3 Build boundary operators\n",
    "\n",
    "$$\n",
    "\\nabla_k \\in \\mathbb{R}^{n_{k-1} \\times n_k}, \\ k \\in [1, K]\n",
    "$$\n",
    "\n",
    "* Also known as incidence matrices.\n",
    "* Each $k$-simplex is connected to its $(k-1)$-faces.\n",
    "* They are the gradient operators (and their transpose are the divergence operators)."
   ]
  },
  {
   "cell_type": "code",
   "execution_count": null,
   "metadata": {},
   "outputs": [],
   "source": [
    "boundaries = build_boundaries(simplices)"
   ]
  },
  {
   "cell_type": "markdown",
   "metadata": {},
   "source": [
    "### 3.1 Discrete derivatives and integrals\n",
    "\n",
    "* $\\nabla_k^\\top \\in \\mathbb{R}^{n_k \\times n_{k-1}}$ is the difference operator (discrete exterior derivative)\n",
    "* $\\langle \\nabla_k^\\top f, g \\rangle = (\\nabla_k^\\top f)^\\top g = f^\\top \\nabla_k g = \\langle f, \\nabla_k g \\rangle$, hence $\\nabla_k$ is the codifferential of $\\nabla_k^\\top$.\n",
    "  The codifferential is the adjoint of the difference.\n",
    "* The codifferential represents sums (\"finite integrals\") over $k$-surfaces."
   ]
  },
  {
   "cell_type": "code",
   "execution_count": null,
   "metadata": {},
   "outputs": [],
   "source": [
    "s1 = np.zeros(len(simplices[1]))\n",
    "s1[100:150] = 1\n",
    "\n",
    "#s1 = np.random.uniform(size=len(simplices[1]))\n",
    "\n",
    "s0 = boundaries[0] @ s1\n",
    "s2 = boundaries[1].T @ s1\n",
    "\n",
    "fig, ax = plt.subplots()\n",
    "plot_nodes(s0, ax, zorder=3)\n",
    "plot_edges(s1, ax, zorder=2)\n",
    "plot_triangles(s2, ax, zorder=1)\n",
    "\n",
    "#plt.colorbar(ax.collections[0], ax=ax)"
   ]
  },
  {
   "cell_type": "markdown",
   "metadata": {},
   "source": [
    "## 4 Build Laplacians\n",
    "\n",
    "$$\n",
    "L_k = L_k^\\text{down} + L_k^\\text{up}\n",
    "    = \\nabla_{k}^\\top \\nabla_{k} + \\nabla_{k+1} \\nabla_{k+1}^\\top\n",
    "    \\in \\mathbb{R}^{n_k \\times n_k}, \\ k \\in [0, K]\n",
    "$$\n",
    "\n",
    "* Graph Laplacian $L_0 = \\nabla_{1} \\nabla_{1}^\\top$\n",
    "* Last Laplacian $L_K = \\nabla_{K}^\\top \\nabla_{K}$"
   ]
  },
  {
   "cell_type": "code",
   "execution_count": null,
   "metadata": {},
   "outputs": [],
   "source": [
    "laplacians = build_laplacians(boundaries)\n",
    "\n",
    "for k, laplacian in enumerate(laplacians):\n",
    "    print('{}-simplices: {:,} simplices, {:.2%} sparse'.format(k, laplacian.shape[0], laplacian.nnz/np.prod(laplacian.shape)))\n",
    "    assert laplacian.shape == (len(simplices[k]), len(simplices[k]))"
   ]
  },
  {
   "cell_type": "markdown",
   "metadata": {},
   "source": [
    "## 5 Eigenvectors\n",
    "\n",
    "$$\n",
    "L_k = V_k \\Lambda_k V_k^\\top, \\ V_k = [v_1, \\dots, v_{n_k}] \\in \\mathbb{R}^{n_k \\times n_k}\n",
    "$$"
   ]
  },
  {
   "cell_type": "markdown",
   "metadata": {},
   "source": [
    "### 5.1 Vertices (0-simplices)"
   ]
  },
  {
   "cell_type": "code",
   "execution_count": null,
   "metadata": {},
   "outputs": [],
   "source": [
    "def plot_eigen(laplacian, plot, n_eigenvectors=4):\n",
    "    values, vectors = sparse.linalg.eigsh(laplacian, n_eigenvectors, which='SM')\n",
    "    fix, axes = plt.subplots(1, n_eigenvectors+3, figsize=(20, 3))\n",
    "    axes[0].plot(values, '.')\n",
    "    axes[1].scatter(vectors[:, 0], vectors[:, 1])\n",
    "    axes[2].scatter(vectors[:, 2], vectors[:, 3])\n",
    "    for i in range(n_eigenvectors):\n",
    "        plot(vectors[:, i], axes[i+3])\n",
    "        axes[i+3].axis('off')\n",
    "\n",
    "plot_eigen(laplacians[0], plot_nodes)"
   ]
  },
  {
   "cell_type": "markdown",
   "metadata": {},
   "source": [
    "### 5.2 Edges (1-simplices)\n",
    "\n",
    "The edges indeed seem to be embeded in linear subspaces.\n",
    "\n",
    "TODO:\n",
    "* Why don't the edge eigenvectors concentrate around the hole?\n",
    "  As in [Control Using Higher Order Laplacians in Network Topologies](https://pdfs.semanticscholar.org/b3e5/5866a7463295f52962db66f26eaa348bd935.pdf), figure 4."
   ]
  },
  {
   "cell_type": "code",
   "execution_count": null,
   "metadata": {},
   "outputs": [],
   "source": [
    "plot_eigen(laplacians[1], plot_edges)"
   ]
  },
  {
   "cell_type": "markdown",
   "metadata": {},
   "source": [
    "### 5.3 Triangles (2-simplices)"
   ]
  },
  {
   "cell_type": "code",
   "execution_count": null,
   "metadata": {},
   "outputs": [],
   "source": [
    "plot_eigen(laplacians[2], plot_triangles)"
   ]
  },
  {
   "cell_type": "markdown",
   "metadata": {},
   "source": [
    "## 5.4 Heat diffusion\n",
    "\n",
    "We study the following dynamical system.\n",
    "\n",
    "$$\\frac{\\partial s(t)}{\\partial t}=-L_k s(t)$$"
   ]
  },
  {
   "cell_type": "code",
   "execution_count": null,
   "metadata": {},
   "outputs": [],
   "source": [
    "values, vectors = [], []\n",
    "for j , laplacian in enumerate(laplacians):\n",
    "    w, v = np.linalg.eigh(laplacians[j].toarray())\n",
    "    values.append(w)\n",
    "    vectors.append(v)"
   ]
  },
  {
   "cell_type": "code",
   "execution_count": null,
   "metadata": {},
   "outputs": [],
   "source": []
  },
  {
   "cell_type": "code",
   "execution_count": null,
   "metadata": {},
   "outputs": [],
   "source": [
    "class Heat:\n",
    "\n",
    "    def __init__(self, t, lmax):\n",
    "        self.t = t\n",
    "        self.lmax = lmax\n",
    "\n",
    "    def __call__(self, x):\n",
    "        return np.exp(-self.t * x / self.lmax)\n",
    "\n",
    "    def plot(self):\n",
    "        x = np.linspace(0, self.lmax)\n",
    "        plt.plot(x, self(x))\n",
    "dim=0\n",
    "heat = Heat(t=10, lmax=values[dim][-1])\n",
    "heat.plot()"
   ]
  },
  {
   "cell_type": "code",
   "execution_count": null,
   "metadata": {},
   "outputs": [],
   "source": [
    "s = np.zeros(len(simplices[0]))\n",
    "s[50:70] = 1\n",
    "\n",
    "#s = np.random.uniform(size=len(simplices[0]))\n",
    "\n",
    "def filter(d, signal):\n",
    "    return vectors[d] @ (heat(values[d]) * (vectors[d].T @ signal))\n",
    "\n",
    "s = filter(0, s)\n",
    "print(s.shape)\n",
    "\n",
    "fig, ax = plot_nodes(s)\n",
    "plt.colorbar(ax.collections[0], ax=ax)\n",
    "#plot_edges(np.zeros(len(simplices[1])), ax=ax, zorder=0)\n",
    "\n",
    "print(np.linalg.norm(s, 1))"
   ]
  },
  {
   "cell_type": "markdown",
   "metadata": {},
   "source": [
    "### Heat diffusion on 1-simplices using the 1-Laplacian"
   ]
  },
  {
   "cell_type": "code",
   "execution_count": null,
   "metadata": {},
   "outputs": [],
   "source": [
    "dim=1\n",
    "iterations=1000\n",
    "heat = Heat(t=iterations, lmax=values[dim][-1])\n",
    "heat.plot()"
   ]
  },
  {
   "cell_type": "code",
   "execution_count": null,
   "metadata": {},
   "outputs": [],
   "source": [
    "s = np.zeros(len(simplices[dim]))\n",
    "#s[100:150] =1\n",
    "s = np.random.uniform(size=len(simplices[dim]))\n",
    "init_cond=np.copy(s)\n",
    "def filter(d, signal):\n",
    "    return vectors[d] @ (heat(values[d]) * (vectors[d].T @ signal))\n",
    "\n",
    "s = filter(dim, s)\n",
    "filtred_s=np.copy(s)\n",
    "print(s.shape)\n",
    "fig, ax = plt.subplots()\n",
    "plot_edges(s, ax,norm=False, zorder=2)\n",
    "plot_triangles_plain(ax, zorder=1)\n",
    "#plt.colorbar(ax.collections[0], ax=ax)\n",
    "print(np.linalg.norm(s, 1))"
   ]
  },
  {
   "cell_type": "markdown",
   "metadata": {},
   "source": [
    "### Convergence of the dynamical system.\n",
    "\n",
    "As studied in [Control Using Higher Order Laplacians in Network Topologies](https://pdfs.semanticscholar.org/b3e5/5866a7463295f52962db66f26eaa348bd935.pdf), Chapter IV.\n",
    " - In case $H_1=0$ the dynamical system converges to 0.\n",
    " - In case $H_1\\neq 0$ the dynamical system converges to some point in $ker(L_1)$"
   ]
  },
  {
   "cell_type": "code",
   "execution_count": null,
   "metadata": {},
   "outputs": [],
   "source": [
    "if np.isclose(values[1][0],10**-10):\n",
    "    epsilon=0.0001\n",
    "    harm_dist=np.linalg.norm(vectors[1][0]-filtred_s, 2)\n",
    "    c=~np.isclose(values[1],10**-8)\n",
    "    t_epsilon=-1/values[1][c][0]*np.log(epsilon/(np.linalg.norm(init_cond, 2)*len(init_cond)))\n",
    "    print('The solution is epsilon-harmonic for all t > {}'.format(t_epsilon))\n",
    "    print('After {} iterations the distance from one harmonic representative is {}'.format(iterations,harm_dist))\n",
    "else:\n",
    "    print('The solution converges to zero. After {} iterations the norm is {}'.format(iterations,np.linalg.norm(filtred_s, 2)))\n"
   ]
  },
  {
   "cell_type": "code",
   "execution_count": null,
   "metadata": {},
   "outputs": [],
   "source": [
    "graph = pg.graphs.Grid2d(10)\n",
    "g = pg.filters.Heat(graph, 100)\n",
    "s = np.zeros(graph.n_nodes)\n",
    "s[50:70] = 1\n",
    "s = g.filter(s, method='exact')\n",
    "graph.plot(s)\n",
    "print(np.linalg.norm(s, 1))"
   ]
  },
  {
   "cell_type": "markdown",
   "metadata": {},
   "source": [
    "## 6 Test\n",
    "\n",
    "Simplicial complex and ground truths from [Control Using Higher Order Laplacians in Network Topologies](https://pdfs.semanticscholar.org/b3e5/5866a7463295f52962db66f26eaa348bd935.pdf), figure 3."
   ]
  },
  {
   "cell_type": "code",
   "execution_count": null,
   "metadata": {},
   "outputs": [],
   "source": [
    "simplices = [\n",
    "    {\n",
    "        frozenset([0]): 0,\n",
    "        frozenset([1]): 1,\n",
    "        frozenset([2]): 2,\n",
    "        frozenset([3]): 3,\n",
    "        frozenset([4]): 4,\n",
    "    },\n",
    "    {\n",
    "        frozenset([0, 1]): 0,\n",
    "        frozenset([0, 2]): 1,\n",
    "        frozenset([1, 2]): 2,\n",
    "        frozenset([1, 3]): 3,\n",
    "        frozenset([2, 3]): 4,\n",
    "        frozenset([2, 4]): 5,\n",
    "        frozenset([3, 4]): 6,\n",
    "    },\n",
    "    {\n",
    "        frozenset([1, 2, 3]): 0,\n",
    "    },\n",
    "]\n",
    "\n",
    "boundaries = build_boundaries(simplices)\n",
    "laplacians = build_laplacians(boundaries)\n",
    "\n",
    "_, vectors = sparse.linalg.eigsh(laplacians[1], 2, which='SM')\n",
    "print(vectors)\n",
    "\n",
    "values, vectors = np.linalg.eigh(laplacians[1].toarray())\n",
    "plt.plot(values, '.');"
   ]
  }
 ],
 "metadata": {
  "kernelspec": {
   "display_name": "Python 3",
   "language": "python",
   "name": "python3"
  },
  "language_info": {
   "codemirror_mode": {
    "name": "ipython",
    "version": 3
   },
   "file_extension": ".py",
   "mimetype": "text/x-python",
   "name": "python",
   "nbconvert_exporter": "python",
   "pygments_lexer": "ipython3",
   "version": "3.6.2"
  }
 },
 "nbformat": 4,
 "nbformat_minor": 2
}
